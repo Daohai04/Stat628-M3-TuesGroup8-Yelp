{
 "cells": [
  {
   "cell_type": "code",
   "execution_count": null,
   "metadata": {},
   "outputs": [],
   "source": []
  },
  {
   "cell_type": "code",
   "execution_count": 1,
   "metadata": {},
   "outputs": [],
   "source": [
    "import json\n",
    "import matplotlib.pyplot as plt\n",
    "from matplotlib.pyplot import plot,savefig\n",
    "import numpy as np\n",
    "import pandas as pd\n",
    "import copy\n",
    "import collections\n",
    "import matplotlib.image as mpimg\n",
    "from scipy import misc\n",
    "import sklearn\n",
    "from sklearn import linear_model\n",
    "from nltk.text import TextCollection\n",
    "from nltk.stem import PorterStemmer \n",
    "import csv\n",
    "\n"
   ]
  },
  {
   "cell_type": "code",
   "execution_count": 9,
   "metadata": {},
   "outputs": [
    {
     "name": "stdout",
     "output_type": "stream",
     "text": [
      "C:\\Users\\DH\\Desktop\\M3test\n"
     ]
    }
   ],
   "source": [
    "cd C:\\Users\\DH\\Desktop\\M3test"
   ]
  },
  {
   "cell_type": "code",
   "execution_count": 10,
   "metadata": {},
   "outputs": [],
   "source": [
    "#Read data\n",
    "list_bus = []\n",
    "    \n",
    "with open('list_bus.json','r') as load_f:\n",
    "    list_bus = json.load(load_f)\n",
    "    \n",
    "list_rev = []\n",
    "    \n",
    "with open('review_final.json','r') as load_f:\n",
    "    list_rev = json.load(load_f)"
   ]
  },
  {
   "cell_type": "code",
   "execution_count": 12,
   "metadata": {},
   "outputs": [],
   "source": [
    "#TF_IDF\n",
    "dict_bus = dict()\n",
    "for rev in list_rev:\n",
    "    str = rev['business_id']\n",
    "    text = rev['text']\n",
    "    if str in dict_bus:\n",
    "        dict_bus[str].append(text)\n",
    "    else:\n",
    "        dict_bus[str] = [text]\n",
    "        \n",
    "\n",
    "def compute_tfidf(list):\n",
    "    \n",
    "    sents = list\n",
    "    set_words = set()\n",
    "\n",
    "    for l in list:\n",
    "        for word in l:\n",
    "            set_words.add(word)\n",
    "\n",
    "    corpus = TextCollection(sents)\n",
    "    dict_words = dict()\n",
    "    for word in set_words:\n",
    "        tf_idf=corpus.tf_idf(word, corpus)\n",
    "        dict_words[word] = tf_idf;\n",
    "    sorted_words = sorted(dict_words.items(), key=lambda kv: kv[1],reverse=True)\n",
    "    return sorted_words\n",
    "\n",
    "\n",
    "dict_bus_word = dict()\n",
    "for rev in dict_bus:\n",
    "    str = dict_bus[rev]\n",
    "    num = compute_tfidf(str)\n",
    "    dict_bus_word[rev] = num\n"
   ]
  },
  {
   "cell_type": "code",
   "execution_count": null,
   "metadata": {},
   "outputs": [],
   "source": [
    "#visualization\n",
    "\n",
    "business_feature=[i for i in dict_bus_word.values()][:1703]\n",
    "business_rank=dict()\n",
    "\n",
    "word_bus = dict()\n",
    "for i in range(len(business_feature)):\n",
    "    l=business_feature[i]\n",
    "    for j in range(len(l)):\n",
    "        if l[j][0] in business_rank:\n",
    "            business_rank[l[j][0]]+=1\n",
    "        else:\n",
    "            business_rank[l[j][0]] =1\n",
    "    \n",
    "\n",
    "sorted_business_rank = sorted(business_rank.items(), key=lambda kv: kv[1],reverse=True)\n",
    "sorted_business_rank[0:100]\n",
    "\n",
    "\n",
    "\n",
    "\n",
    "ps = PorterStemmer()\n",
    "#ps.stem('serve')\n",
    "\n",
    "           \n",
    "            \n",
    "def countnum(word):\n",
    "    count_num=[0,0,0,0,0]\n",
    "    for i in range(len(list_rev)):\n",
    "        review=list_rev[i]\n",
    "        if word in review['text']:\n",
    "            point=float(review['stars'])\n",
    "            if point <= 1:\n",
    "                count_num[0] += 1\n",
    "            elif point <= 2:\n",
    "                count_num[1] += 1\n",
    "            elif point <= 3:\n",
    "                count_num[2] += 1\n",
    "            elif point <= 4:\n",
    "                count_num[3] += 1\n",
    "            elif point <= 5:\n",
    "                count_num[4] += 1\n",
    "    return(count_num)"
   ]
  },
  {
   "cell_type": "code",
   "execution_count": null,
   "metadata": {},
   "outputs": [],
   "source": [
    "#Change the directory to save figures\n",
    "cd C:/Users/DH/Desktop/M3test/figure\n",
    "\n",
    "#Some words that we are interested\n",
    "word_list=['good','food','like','great','friendly','nice','well','staff','best','love','menu','delicious',\n",
    "           'fresh','service','breakfast','lunch','brunch','dinner','pork','chicken','beef','fish','yummy',\n",
    "           'park','wifi']\n",
    "\n",
    "word_stem=[]\n",
    "for i in range(len(word_list)):\n",
    "    word_stem.append(ps.stem(word_list[i]))"
   ]
  },
  {
   "cell_type": "code",
   "execution_count": null,
   "metadata": {},
   "outputs": [],
   "source": [
    "\n",
    "#Function to save figures\n",
    "def savefigure(wordlist):\n",
    "    for i in range(len(wordlist)):\n",
    "        word=wordlist[i]\n",
    "        word_count=countnum(word)\n",
    "        plt.bar(range(1,6), word_count, facecolor = '#9999ff',edgecolor = 'white')\n",
    "        plt.xlabel(\"Stars\")\n",
    "        plt.ylabel(\"Count\")\n",
    "        plt.title(\"The Number of \"+'\"'+word+'\"')\n",
    "        plt.xticks( range(1,6), ('0~1', '1~2', '2~3', '3~4', '4~5') )\n",
    "        for x,y in zip(range(1,6), word_count):\n",
    "            plt.text(x + 0.01,y + 0.05,'%d'%y,ha = 'left',va='bottom',color = \"r\")\n",
    "            plt.text(x + 0.01,y + 0.05,'%d%%'%(y/93488*100),ha = 'right',va='bottom', color = \"green\")\n",
    "        #plt.savefig(word+'.png')\n",
    "        plot.show()\n",
    "        plt.close()\n",
    "savefigure(word_stem)"
   ]
  }
 ],
 "metadata": {
  "kernelspec": {
   "display_name": "Python 3",
   "language": "python",
   "name": "python3"
  },
  "language_info": {
   "codemirror_mode": {
    "name": "ipython",
    "version": 3
   },
   "file_extension": ".py",
   "mimetype": "text/x-python",
   "name": "python",
   "nbconvert_exporter": "python",
   "pygments_lexer": "ipython3",
   "version": "3.7.3"
  }
 },
 "nbformat": 4,
 "nbformat_minor": 2
}
