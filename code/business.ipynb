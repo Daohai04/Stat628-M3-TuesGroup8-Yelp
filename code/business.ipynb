{
 "cells": [
  {
   "cell_type": "code",
   "execution_count": 1,
   "metadata": {},
   "outputs": [],
   "source": [
    "import json\n",
    "import matplotlib.pyplot as plt\n",
    "import numpy as np\n",
    "import pandas as pd\n",
    "import copy\n",
    "import collections\n",
    "import csv\n",
    "import pandas as pd\n",
    "import nltk\n",
    "from nltk.corpus import stopwords\n",
    "from nltk.stem import PorterStemmer \n",
    "from nltk.tokenize import word_tokenize\n",
    "from nltk.tokenize import sent_tokenize\n",
    "from string import punctuation\n",
    "from nltk.stem import WordNetLemmatizer\n",
    "from autocorrect import Speller\n",
    "wordnet_lemmatizer = WordNetLemmatizer()\n",
    "stop_words = set(stopwords.words('english'))\n",
    "spell = Speller(lang='en')\n",
    "ps = PorterStemmer()\n",
    "from sklearn.preprocessing import OneHotEncoder\n",
    "enc = OneHotEncoder(handle_unknown='ignore')\n",
    "import matplotlib.image as mpimg\n",
    "from scipy import misc\n",
    "from nltk.text import TextCollection"
   ]
  },
  {
   "cell_type": "code",
   "execution_count": 2,
   "metadata": {},
   "outputs": [
    {
     "name": "stdout",
     "output_type": "stream",
     "text": [
      "/Users/chenjiawen\n"
     ]
    }
   ],
   "source": [
    "cd '/Users/chenjiawen'"
   ]
  },
  {
   "cell_type": "code",
   "execution_count": 44,
   "metadata": {},
   "outputs": [],
   "source": [
    "def list_dictionary(text):\n",
    "    list0=[]\n",
    "    if text != '':\n",
    "        for key,value in eval(text).items():\n",
    "            key = key.lower()\n",
    "            if(isinstance(eval(value),dict)):\n",
    "                for key1,value1 in eval(value).items():\n",
    "                    value1 = str(value1).lower()\n",
    "                    value1 = value1.replace('u\\'',\"\")\n",
    "                    value1 = value1.replace('\\'',\"\") \n",
    "                    if value1 != \"false\" and value1 != \"none\" and value1 != \"no\":\n",
    "                        if  value1 == \"true\" or value1 == \"yes\":\n",
    "                            key1=key1.lower()\n",
    "                            list0.append(key+\"_\"+key1+\"+yes\")\n",
    "                        else:                      \n",
    "                            list0.append(key+\"_\"+key1+\"+\"+value1)\n",
    "                    else:\n",
    "                        key = key.lower()\n",
    "                        key1=key1.lower()\n",
    "                        list0.append(key+\"_\"+key1+\"+\"+\"none\")\n",
    "                continue\n",
    "            value = str(value).lower()\n",
    "            value = value.replace('u\\'',\"\")\n",
    "            value = value.replace('\\'',\"\")\n",
    "            if value != \"false\" and value != \"none\" and value != \"no\": \n",
    "                if value == \"true\" or value == \"yes\":\n",
    "                    list0.append(key+\"+yes\")\n",
    "                else:                  \n",
    "                    list0.append(key+\"+\"+value)\n",
    "            else:\n",
    "                list0.append(key+\"+none\")\n",
    "        return(list0)\n",
    "    else:    \n",
    "        return(list0)"
   ]
  },
  {
   "cell_type": "code",
   "execution_count": 45,
   "metadata": {},
   "outputs": [],
   "source": [
    "def Convert(lst): \n",
    "    res_dct = {lst[i]: lst[i + 1] for i in range(0, len(lst), 2)} \n",
    "    return res_dct"
   ]
  },
  {
   "cell_type": "code",
   "execution_count": 46,
   "metadata": {},
   "outputs": [],
   "source": [
    "business=[]\n",
    "with open('business_WI.csv', newline='') as f:\n",
    "    temp = csv.reader(f)\n",
    "    for row in temp:\n",
    "        business.append(row)\n",
    "name=['column','business_id','name','address','city','state','postal_code','latitude','longitude','stars','review_count','is_open','attributes','categories','hours']\n",
    "business=pd.DataFrame(columns=name,data=business)\n",
    "business = business[1:]"
   ]
  },
  {
   "cell_type": "code",
   "execution_count": 47,
   "metadata": {},
   "outputs": [
    {
     "data": {
      "text/plain": [
       "['businessparking_garage+none',\n",
       " 'businessparking_street+none',\n",
       " 'businessparking_validated+none',\n",
       " 'businessparking_lot+none',\n",
       " 'businessparking_valet+none',\n",
       " 'restaurantsgoodforgroups+none',\n",
       " 'wifi+free',\n",
       " 'restaurantstakeout+yes',\n",
       " 'restaurantsattire+casual',\n",
       " 'businessacceptscreditcards+yes',\n",
       " 'restaurantsdelivery+none',\n",
       " 'goodforkids+none',\n",
       " 'restaurantsreservations+none',\n",
       " 'restaurantspricerange2+1',\n",
       " 'goodformeal_dessert+none',\n",
       " 'goodformeal_latenight+none',\n",
       " 'goodformeal_lunch+none',\n",
       " 'goodformeal_dinner+none',\n",
       " 'goodformeal_brunch+none',\n",
       " 'goodformeal_breakfast+none']"
      ]
     },
     "execution_count": 47,
     "metadata": {},
     "output_type": "execute_result"
    }
   ],
   "source": [
    "list_dictionary(business['attributes'][1])"
   ]
  },
  {
   "cell_type": "code",
   "execution_count": 48,
   "metadata": {},
   "outputs": [],
   "source": [
    "for index,bus in business.iterrows():\n",
    "    bus['attributes'] = list_dictionary(bus['attributes'])\n",
    "    #rev = stopwords_stemming(replace_to(rev))"
   ]
  },
  {
   "cell_type": "code",
   "execution_count": 49,
   "metadata": {},
   "outputs": [],
   "source": [
    "business.to_json('business_final.json',orient='records')"
   ]
  },
  {
   "cell_type": "code",
   "execution_count": 50,
   "metadata": {},
   "outputs": [],
   "source": [
    "list_bus = []\n",
    "    \n",
    "with open('business_final.json','r') as load_f:\n",
    "    list_bus = json.load(load_f)"
   ]
  },
  {
   "cell_type": "code",
   "execution_count": 51,
   "metadata": {},
   "outputs": [],
   "source": [
    "attributes = []\n",
    "for items in business[\"attributes\"]:\n",
    "    attributes.append(items)"
   ]
  },
  {
   "cell_type": "code",
   "execution_count": 52,
   "metadata": {},
   "outputs": [],
   "source": [
    "def expand_list(nested_list):\n",
    "    for item in nested_list:\n",
    "        if isinstance(item, (list, tuple)):\n",
    "            for sub_item in expand_list(item):\n",
    "                yield sub_item\n",
    "        else:\n",
    "            yield item\n"
   ]
  },
  {
   "cell_type": "code",
   "execution_count": 53,
   "metadata": {},
   "outputs": [],
   "source": [
    "attributes = list(expand_list(attributes))"
   ]
  },
  {
   "cell_type": "code",
   "execution_count": 72,
   "metadata": {},
   "outputs": [],
   "source": [
    "att_uni = np.unique(attributes)"
   ]
  },
  {
   "cell_type": "code",
   "execution_count": 73,
   "metadata": {},
   "outputs": [
    {
     "data": {
      "text/plain": [
       "array(['alcohol+beer_and_wine', 'alcohol+full_bar', 'alcohol+none',\n",
       "       'ambience+none', 'ambience_casual+none', 'ambience_casual+yes',\n",
       "       'ambience_classy+none', 'ambience_classy+yes',\n",
       "       'ambience_divey+none', 'ambience_divey+yes',\n",
       "       'ambience_hipster+none', 'ambience_hipster+yes',\n",
       "       'ambience_intimate+none', 'ambience_intimate+yes',\n",
       "       'ambience_romantic+none', 'ambience_romantic+yes',\n",
       "       'ambience_touristy+none', 'ambience_touristy+yes',\n",
       "       'ambience_trendy+none', 'ambience_trendy+yes',\n",
       "       'ambience_upscale+none', 'ambience_upscale+yes', 'bestnights+none',\n",
       "       'bestnights_friday+none', 'bestnights_friday+yes',\n",
       "       'bestnights_monday+none', 'bestnights_monday+yes',\n",
       "       'bestnights_saturday+none', 'bestnights_saturday+yes',\n",
       "       'bestnights_sunday+none', 'bestnights_sunday+yes',\n",
       "       'bestnights_thursday+none', 'bestnights_thursday+yes',\n",
       "       'bestnights_tuesday+none', 'bestnights_tuesday+yes',\n",
       "       'bestnights_wednesday+none', 'bestnights_wednesday+yes',\n",
       "       'bikeparking+none', 'bikeparking+yes',\n",
       "       'businessacceptsbitcoin+none', 'businessacceptsbitcoin+yes',\n",
       "       'businessacceptscreditcards+none',\n",
       "       'businessacceptscreditcards+yes', 'businessparking+none',\n",
       "       'businessparking_garage+none', 'businessparking_garage+yes',\n",
       "       'businessparking_lot+none', 'businessparking_lot+yes',\n",
       "       'businessparking_street+none', 'businessparking_street+yes',\n",
       "       'businessparking_valet+none', 'businessparking_valet+yes',\n",
       "       'businessparking_validated+none', 'businessparking_validated+yes',\n",
       "       'byappointmentonly+none', 'byob+none', 'byobcorkage+none',\n",
       "       'byobcorkage+yes_corkage', 'byobcorkage+yes_free', 'caters+none',\n",
       "       'caters+yes', 'coatcheck+none', 'coatcheck+yes', 'corkage+none',\n",
       "       'corkage+yes', 'dietaryrestrictions_dairy-free+none',\n",
       "       'dietaryrestrictions_gluten-free+none',\n",
       "       'dietaryrestrictions_halal+none',\n",
       "       'dietaryrestrictions_kosher+none',\n",
       "       'dietaryrestrictions_soy-free+none',\n",
       "       'dietaryrestrictions_vegan+none', 'dietaryrestrictions_vegan+yes',\n",
       "       'dietaryrestrictions_vegetarian+none',\n",
       "       'dietaryrestrictions_vegetarian+yes', 'dogsallowed+none',\n",
       "       'dogsallowed+yes', 'drivethru+none', 'drivethru+yes',\n",
       "       'goodfordancing+none', 'goodfordancing+yes', 'goodforkids+none',\n",
       "       'goodforkids+yes', 'goodformeal+none',\n",
       "       'goodformeal_breakfast+none', 'goodformeal_breakfast+yes',\n",
       "       'goodformeal_brunch+none', 'goodformeal_brunch+yes',\n",
       "       'goodformeal_dessert+none', 'goodformeal_dessert+yes',\n",
       "       'goodformeal_dinner+none', 'goodformeal_dinner+yes',\n",
       "       'goodformeal_latenight+none', 'goodformeal_latenight+yes',\n",
       "       'goodformeal_lunch+none', 'goodformeal_lunch+yes',\n",
       "       'happyhour+none', 'happyhour+yes', 'hastv+none', 'hastv+yes',\n",
       "       'music+none', 'music_background_music+none',\n",
       "       'music_background_music+yes', 'music_dj+none', 'music_dj+yes',\n",
       "       'music_jukebox+none', 'music_jukebox+yes', 'music_karaoke+none',\n",
       "       'music_karaoke+yes', 'music_live+none', 'music_live+yes',\n",
       "       'music_no_music+none', 'music_video+none', 'music_video+yes',\n",
       "       'noiselevel+average', 'noiselevel+loud', 'noiselevel+quiet',\n",
       "       'noiselevel+very_loud', 'outdoorseating+none',\n",
       "       'outdoorseating+yes', 'restaurantsattire+casual',\n",
       "       'restaurantsattire+dressy', 'restaurantsattire+formal',\n",
       "       'restaurantsdelivery+none', 'restaurantsdelivery+yes',\n",
       "       'restaurantsgoodforgroups+none', 'restaurantsgoodforgroups+yes',\n",
       "       'restaurantspricerange2+1', 'restaurantspricerange2+2',\n",
       "       'restaurantspricerange2+3', 'restaurantspricerange2+4',\n",
       "       'restaurantspricerange2+none', 'restaurantsreservations+none',\n",
       "       'restaurantsreservations+yes', 'restaurantstableservice+none',\n",
       "       'restaurantstableservice+yes', 'restaurantstakeout+none',\n",
       "       'restaurantstakeout+yes', 'smoking+none', 'smoking+outdoor',\n",
       "       'smoking+yes', 'wheelchairaccessible+none',\n",
       "       'wheelchairaccessible+yes', 'wifi+free', 'wifi+none', 'wifi+paid'],\n",
       "      dtype='<U36')"
      ]
     },
     "execution_count": 73,
     "metadata": {},
     "output_type": "execute_result"
    }
   ],
   "source": [
    "att_uni"
   ]
  },
  {
   "cell_type": "code",
   "execution_count": null,
   "metadata": {},
   "outputs": [],
   "source": []
  },
  {
   "cell_type": "code",
   "execution_count": null,
   "metadata": {},
   "outputs": [],
   "source": []
  },
  {
   "cell_type": "code",
   "execution_count": 74,
   "metadata": {},
   "outputs": [],
   "source": [
    "for i in range(len(list_bus)):\n",
    "    record=list_bus[i]\n",
    "    for word in att_uni:\n",
    "        if word not in record['attributes']:\n",
    "            record['attributes'].append(word+\"+NA\")"
   ]
  },
  {
   "cell_type": "code",
   "execution_count": 57,
   "metadata": {},
   "outputs": [],
   "source": [
    "restaurantsattire=['restaurantsattire_casual',\n",
    "       'restaurantsattire_dressy', 'restaurantsattire_formal']"
   ]
  },
  {
   "cell_type": "code",
   "execution_count": 58,
   "metadata": {},
   "outputs": [],
   "source": [
    "for i in range(len(list_bus)):\n",
    "    record=list_bus[i]\n",
    "    count =0\n",
    "    for word in restaurantsattire:\n",
    "        if word in record['attributes']:\n",
    "            count = count +1\n",
    "    if count ==0:\n",
    "        record['attributes'].append(\"restaurantsattire+NA\")"
   ]
  },
  {
   "cell_type": "code",
   "execution_count": 59,
   "metadata": {},
   "outputs": [],
   "source": [
    "goodformeal=['goodformeal_breakfast',\n",
    "       'goodformeal_brunch', 'goodformeal_dessert', 'goodformeal_dinner',\n",
    "       'goodformeal_latenight', 'goodformeal_lunch']"
   ]
  },
  {
   "cell_type": "code",
   "execution_count": 60,
   "metadata": {},
   "outputs": [],
   "source": [
    "for i in range(len(list_bus)):\n",
    "    record=list_bus[i]\n",
    "    count =0\n",
    "    for word in goodformeal:\n",
    "        if word in record['attributes']:\n",
    "            count = count +1\n",
    "    if count ==0:\n",
    "        record['attributes'].append(\"goodformeal+NA\")"
   ]
  },
  {
   "cell_type": "code",
   "execution_count": 61,
   "metadata": {},
   "outputs": [],
   "source": [
    "best_night = ['bestnights_friday',\n",
    "       'bestnights_monday', 'bestnights_saturday', 'bestnights_sunday',\n",
    "       'bestnights_thursday', 'bestnights_tuesday',\n",
    "       'bestnights_wednesday']"
   ]
  },
  {
   "cell_type": "code",
   "execution_count": 62,
   "metadata": {},
   "outputs": [],
   "source": [
    "for i in range(len(list_bus)):\n",
    "    record=list_bus[i]\n",
    "    count =0\n",
    "    for word in best_night:\n",
    "        if word in record['attributes']:\n",
    "            count = count +1\n",
    "    if count ==0:\n",
    "        record['attributes'].append(\"bestnights+NA\")"
   ]
  },
  {
   "cell_type": "code",
   "execution_count": 63,
   "metadata": {},
   "outputs": [],
   "source": [
    "wifi =['wifi+free', 'wifi+paid']"
   ]
  },
  {
   "cell_type": "code",
   "execution_count": 30,
   "metadata": {},
   "outputs": [],
   "source": [
    "for i in range(len(list_bus)):\n",
    "    record=list_bus[i]\n",
    "    count =0\n",
    "    for word in wifi:\n",
    "        if word in record['attributes']:\n",
    "            count = count +1\n",
    "    if count ==0:\n",
    "        record['attributes'].append(\"wifi+NA\")"
   ]
  },
  {
   "cell_type": "code",
   "execution_count": 31,
   "metadata": {},
   "outputs": [],
   "source": [
    "music=['music_background_music', 'music_dj', 'music_jukebox',\n",
    "       'music_karaoke', 'music_live', 'music_video']"
   ]
  },
  {
   "cell_type": "code",
   "execution_count": 32,
   "metadata": {},
   "outputs": [],
   "source": [
    "for i in range(len(list_bus)):\n",
    "    record=list_bus[i]\n",
    "    count =0\n",
    "    for word in music:\n",
    "        if word in record['attributes']:\n",
    "            count = count +1\n",
    "    if count ==0:\n",
    "        record['attributes'].append(\"music_NA\")"
   ]
  },
  {
   "cell_type": "code",
   "execution_count": 33,
   "metadata": {},
   "outputs": [],
   "source": [
    "parking  = ['bikeparking', 'businessparking_garage',\n",
    "       'businessparking_lot', 'businessparking_street',\n",
    "       'businessparking_valet', 'businessparking_validated']"
   ]
  },
  {
   "cell_type": "code",
   "execution_count": 34,
   "metadata": {},
   "outputs": [],
   "source": [
    "for i in range(len(list_bus)):\n",
    "    record=list_bus[i]\n",
    "    count =0\n",
    "    for word in parking:\n",
    "        if word in record['attributes']:\n",
    "            count = count +1\n",
    "    if count ==0:\n",
    "        record['attributes'].append(\"parking_none\")"
   ]
  },
  {
   "cell_type": "code",
   "execution_count": 75,
   "metadata": {},
   "outputs": [],
   "source": [
    "my_df = pd.DataFrame(list_bus)\n",
    "my_df.to_csv('bussiness.csv', index=False, header=False)"
   ]
  },
  {
   "cell_type": "code",
   "execution_count": 29,
   "metadata": {},
   "outputs": [
    {
     "data": {
      "text/plain": [
       "['wifi_free',\n",
       " 'restaurantstakeout',\n",
       " 'restaurantsattire_casual',\n",
       " 'businessacceptscreditcards',\n",
       " 'restaurantspricerange2_1',\n",
       " 'alcohol_beer_and_wine_none',\n",
       " 'alcohol_full_bar_none',\n",
       " 'caters_none',\n",
       " 'coatcheck_none',\n",
       " 'dietaryrestrictions_vegan_none',\n",
       " 'dietaryrestrictions_vegetarian_none',\n",
       " 'dogsallowed_none',\n",
       " 'drivethru_none',\n",
       " 'goodfordancing_none',\n",
       " 'goodforkids_none',\n",
       " 'happyhour_none',\n",
       " 'hastv_none',\n",
       " 'outdoorseating_none',\n",
       " 'restaurantsdelivery_none',\n",
       " 'restaurantsgoodforgroups_none',\n",
       " 'restaurantsreservations_none',\n",
       " 'restaurantstableservice_none',\n",
       " 'smoking_outdoor_none',\n",
       " 'smoking_none',\n",
       " 'wheelchairaccessible_none',\n",
       " 'businessacceptsbitcoin_none',\n",
       " 'goodformeal_none',\n",
       " 'bestnights_none',\n",
       " 'music_none',\n",
       " 'parking_none']"
      ]
     },
     "execution_count": 29,
     "metadata": {},
     "output_type": "execute_result"
    }
   ],
   "source": [
    "list_bus[0][\"attributes\"]"
   ]
  },
  {
   "cell_type": "code",
   "execution_count": 37,
   "metadata": {},
   "outputs": [],
   "source": [
    "attributes=[]\n",
    "for i in range(len(list_bus)):\n",
    "    attributes.append(list_bus[i][\"attributes\"])\n",
    "attributes = list(expand_list(attributes))"
   ]
  },
  {
   "cell_type": "code",
   "execution_count": 38,
   "metadata": {},
   "outputs": [
    {
     "data": {
      "text/plain": [
       "1703"
      ]
     },
     "execution_count": 38,
     "metadata": {},
     "output_type": "execute_result"
    }
   ],
   "source": [
    "len(business)"
   ]
  },
  {
   "cell_type": "code",
   "execution_count": 39,
   "metadata": {},
   "outputs": [],
   "source": [
    "import re\n",
    "from collections import Counter"
   ]
  },
  {
   "cell_type": "code",
   "execution_count": 40,
   "metadata": {},
   "outputs": [
    {
     "data": {
      "text/plain": [
       "Counter({'2.5': 177,\n",
       "         '4.0': 464,\n",
       "         '3.5': 428,\n",
       "         '3.0': 281,\n",
       "         '4.5': 189,\n",
       "         '1.0': 15,\n",
       "         '2.0': 82,\n",
       "         '1.5': 33,\n",
       "         '5.0': 34})"
      ]
     },
     "execution_count": 40,
     "metadata": {},
     "output_type": "execute_result"
    }
   ],
   "source": [
    "Counter(business['stars'])"
   ]
  },
  {
   "cell_type": "code",
   "execution_count": 41,
   "metadata": {
    "scrolled": true
   },
   "outputs": [
    {
     "data": {
      "text/plain": [
       "[('caters_NA', 1703),\n",
       " ('coatcheck_NA', 1703),\n",
       " ('dietaryrestrictions_vegan_NA', 1703),\n",
       " ('dietaryrestrictions_vegetarian_NA', 1703),\n",
       " ('dogsallowed_NA', 1703),\n",
       " ('drivethru_NA', 1703),\n",
       " ('goodfordancing_NA', 1703),\n",
       " ('goodforkids_NA', 1703),\n",
       " ('happyhour_NA', 1703),\n",
       " ('hastv_NA', 1703),\n",
       " ('outdoorseating_NA', 1703),\n",
       " ('restaurantsdelivery_NA', 1703),\n",
       " ('restaurantsgoodforgroups_NA', 1703),\n",
       " ('restaurantsreservations_NA', 1703),\n",
       " ('restaurantstableservice_NA', 1703),\n",
       " ('restaurantstakeout_NA', 1703),\n",
       " ('smoking_NA', 1703),\n",
       " ('wheelchairaccessible_NA', 1703),\n",
       " ('businessacceptsbitcoin_NA', 1703),\n",
       " ('businessacceptscreditcards_NA', 1703),\n",
       " ('goodformeal_NA', 1703),\n",
       " ('bestnights_NA', 1703),\n",
       " ('music_NA', 1703),\n",
       " ('parking_none', 1703),\n",
       " ('smoking_outdoor_NA', 1668),\n",
       " ('businessacceptscreditcards_yes', 1514),\n",
       " ('alcohol_beer_and_wine_NA', 1466),\n",
       " ('restaurantstakeout_yes', 1421),\n",
       " ('restaurantsattire_casual', 1418),\n",
       " ('businessparking_validated_none', 1414),\n",
       " ('businessparking_valet_none', 1410),\n",
       " ('businessparking_garage_none', 1335),\n",
       " ('ambience_touristy_none', 1289),\n",
       " ('ambience_upscale_none', 1274),\n",
       " ('ambience_romantic_none', 1270),\n",
       " ('ambience_intimate_none', 1270),\n",
       " ('restaurantsgoodforgroups_yes', 1269),\n",
       " ('ambience_hipster_none', 1258),\n",
       " ('ambience_classy_none', 1258),\n",
       " ('ambience_divey_none', 1239),\n",
       " ('ambience_trendy_none', 1228),\n",
       " ('goodforkids_yes', 1182),\n",
       " ('alcohol_full_bar_NA', 1104),\n",
       " ('restaurantsdelivery_none', 1085),\n",
       " ('bikeparking_yes', 1049),\n",
       " ('wifi_NA', 1036),\n",
       " ('restaurantsreservations_none', 1025),\n",
       " ('businessparking_street_none', 984),\n",
       " ('goodformeal_dessert_none', 822),\n",
       " ('noiselevel_average', 819),\n",
       " ('goodformeal_latenight_none', 813),\n",
       " ('outdoorseating_none', 779),\n",
       " ('goodformeal_brunch_none', 768),\n",
       " ('restaurantspricerange2_1', 753),\n",
       " ('businessparking_lot_none', 751),\n",
       " ('goodformeal_breakfast_none', 747),\n",
       " ('restaurantspricerange2_2', 736),\n",
       " ('ambience_casual_yes', 694),\n",
       " ('businessparking_lot_yes', 669),\n",
       " ('wifi_free', 657),\n",
       " ('outdoorseating_yes', 653),\n",
       " ('hastv_none', 649),\n",
       " ('hastv_yes', 646),\n",
       " ('alcohol_full_bar', 599),\n",
       " ('ambience_casual_none', 596),\n",
       " ('caters_yes', 527),\n",
       " ('wifi_none', 516),\n",
       " ('caters_none', 512),\n",
       " ('alcohol_none', 509),\n",
       " ('goodformeal_lunch_yes', 466),\n",
       " ('businessparking_street_yes', 436),\n",
       " ('goodformeal_dinner_none', 431),\n",
       " ('goodformeal_dinner_yes', 426),\n",
       " ('restaurantsreservations_yes', 425),\n",
       " ('goodformeal_lunch_none', 391),\n",
       " ('restaurantsdelivery_yes', 375),\n",
       " ('goodforkids_none', 298),\n",
       " ('restaurantstableservice_yes', 275),\n",
       " ('restaurantsattire_NA', 256),\n",
       " ('noiselevel_quiet', 245),\n",
       " ('alcohol_beer_and_wine', 237),\n",
       " ('wheelchairaccessible_yes', 219),\n",
       " ('restaurantsgoodforgroups_none', 218),\n",
       " ('restaurantstableservice_none', 211),\n",
       " ('businessacceptsbitcoin_none', 166),\n",
       " ('happyhour_yes', 161),\n",
       " ('music_dj_none', 160),\n",
       " ('music_video_none', 154),\n",
       " ('music_karaoke_none', 152),\n",
       " ('music_no_music_none', 145),\n",
       " ('goodfordancing_none', 140),\n",
       " ('music_live_none', 138),\n",
       " ('music_jukebox_none', 134),\n",
       " ('bikeparking_none', 127),\n",
       " ('music_background_music_none', 126),\n",
       " ('goodformeal_breakfast_yes', 110),\n",
       " ('noiselevel_loud', 104),\n",
       " ('dogsallowed_none', 103),\n",
       " ('restaurantstakeout_none', 102),\n",
       " ('bestnights_monday_none', 100)]"
      ]
     },
     "execution_count": 41,
     "metadata": {},
     "output_type": "execute_result"
    }
   ],
   "source": [
    "Counter(attributes).most_common(100)"
   ]
  },
  {
   "cell_type": "code",
   "execution_count": 400,
   "metadata": {},
   "outputs": [],
   "source": [
    "def countnum(word):\n",
    "    count_num=[0,0,0,0,0]\n",
    "    for i in range(len(list_bus)):\n",
    "        review=list_bus[i]\n",
    "        if word in review['attributes']:\n",
    "            point=float(review['stars'])\n",
    "            if point <= 1:\n",
    "                count_num[0] += 1\n",
    "            elif point <= 2:\n",
    "                count_num[1] += 1\n",
    "            elif point <= 3:\n",
    "                count_num[2] += 1\n",
    "            elif point <= 4:\n",
    "                count_num[3] += 1\n",
    "            elif point <= 5:\n",
    "                count_num[4] += 1\n",
    "    return(count_num)"
   ]
  },
  {
   "cell_type": "code",
   "execution_count": 401,
   "metadata": {},
   "outputs": [],
   "source": [
    "def count_res(list0):\n",
    "    dinner_star = [0,0,0,0,0]\n",
    "    for i in range(len(list0)):\n",
    "            review=list0[i]\n",
    "            point=float(review['stars'])\n",
    "            if point <= 1:\n",
    "                dinner_star[0] += 1\n",
    "            elif point <= 2:\n",
    "                dinner_star[1] += 1\n",
    "            elif point <= 3:\n",
    "                dinner_star[2] += 1\n",
    "            elif point <= 4:\n",
    "                dinner_star[3] += 1\n",
    "            elif point <= 5:\n",
    "                dinner_star[4] += 1\n",
    "    return(dinner_star)"
   ]
  },
  {
   "cell_type": "code",
   "execution_count": 1,
   "metadata": {},
   "outputs": [
    {
     "ename": "NameError",
     "evalue": "name 'dinner_star' is not defined",
     "output_type": "error",
     "traceback": [
      "\u001b[0;31m---------------------------------------------------------------------------\u001b[0m",
      "\u001b[0;31mNameError\u001b[0m                                 Traceback (most recent call last)",
      "\u001b[0;32m<ipython-input-1-ecdc84b22ef6>\u001b[0m in \u001b[0;36m<module>\u001b[0;34m()\u001b[0m\n\u001b[0;32m----> 1\u001b[0;31m \u001b[0mdinner_star\u001b[0m\u001b[0;34m\u001b[0m\u001b[0;34m\u001b[0m\u001b[0m\n\u001b[0m",
      "\u001b[0;31mNameError\u001b[0m: name 'dinner_star' is not defined"
     ]
    }
   ],
   "source": [
    "dinner_star"
   ]
  },
  {
   "cell_type": "code",
   "execution_count": 402,
   "metadata": {},
   "outputs": [],
   "source": [
    "dinner_star = count_res(list_bus)"
   ]
  },
  {
   "cell_type": "code",
   "execution_count": 405,
   "metadata": {},
   "outputs": [
    {
     "data": {
      "text/plain": [
       "[4, 15, 41, 81, 48]"
      ]
     },
     "execution_count": 405,
     "metadata": {},
     "output_type": "execute_result"
    }
   ],
   "source": [
    "countnum(\"businessacceptscreditcards_none\")"
   ]
  },
  {
   "cell_type": "code",
   "execution_count": 407,
   "metadata": {},
   "outputs": [],
   "source": [
    "word_list=['noiselevel_average',\n",
    "           'noiselevel_loud', 'noiselevel_quiet', 'noiselevel_very_loud','bestnights_friday',\n",
    "           'bestnights_monday', 'bestnights_saturday', 'bestnights_sunday',\n",
    "           'bestnights_thursday', 'bestnights_tuesday',\n",
    "           'bestnights_wednesday','byobcorkage_yes_corkage', 'byobcorkage_yes_free','coatcheck',\n",
    "          'wifi_none','wifi_free','music_none','bestnights_none','outdoorseating_none','outdoorseating',\n",
    "          'restaurantsdelivery_none','restaurantsdelivery','businessacceptscreditcards_none','businessacceptscreditcards',\n",
    "          'parking_none','businessparking_street']\n",
    "def savefigure(wordlist):\n",
    "    for i in range(len(wordlist)):\n",
    "        word=wordlist[i]\n",
    "        word_count=countnum(word)\n",
    "        fig, ax = plt.subplots()\n",
    "        ax.spines['right'].set_visible(False)\n",
    "        ax.spines['top'].set_visible(False)\n",
    "        percentage = [0,0,0,0,0]\n",
    "        for h in range(5):\n",
    "            percentage[h] =  word_count[h]/dinner_star[h]\n",
    "        plt.bar(range(1,6), percentage, facecolor = '#9ca8b8',edgecolor = 'white')\n",
    "        plt.xlabel(\"Stars\")\n",
    "        plt.ylabel(\"Percentage\")\n",
    "        plt.title(\"The Number of restaurant with \"+'attribute: \"'+word+'\"')\n",
    "        plt.xticks( range(1,6), ('0~1', '1~2', '2~3', '3~4', '4~5') )\n",
    "        j=0\n",
    "        for x,y in zip(range(1,6), percentage):\n",
    "    #ha : horizontal alignment\n",
    "    #va : vertical alignment\n",
    "            plt.text(x + 0.01,y+0.00005,'%d'%word_count[j],ha = 'left',va='bottom',color = \"r\")\n",
    "            plt.text(x + 0.01,y+0.00005,'%d%%'%(y*100),ha = 'right',va='bottom', color = \"green\")\n",
    "            j=j+1\n",
    "        plt.savefig(word+'.png')\n",
    "        plt.close()\n",
    "savefigure(word_list)\n"
   ]
  },
  {
   "cell_type": "code",
   "execution_count": null,
   "metadata": {},
   "outputs": [],
   "source": []
  }
 ],
 "metadata": {
  "kernelspec": {
   "display_name": "Python 3",
   "language": "python",
   "name": "python3"
  },
  "language_info": {
   "codemirror_mode": {
    "name": "ipython",
    "version": 3
   },
   "file_extension": ".py",
   "mimetype": "text/x-python",
   "name": "python",
   "nbconvert_exporter": "python",
   "pygments_lexer": "ipython3",
   "version": "3.6.7"
  }
 },
 "nbformat": 4,
 "nbformat_minor": 2
}
